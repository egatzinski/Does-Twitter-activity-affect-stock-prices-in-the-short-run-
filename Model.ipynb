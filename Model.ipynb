{
 "cells": [
  {
   "cell_type": "code",
   "execution_count": 1,
   "id": "5ffdf366",
   "metadata": {},
   "outputs": [],
   "source": [
    "# basic libraries to work on the dataframe\n",
    "import pandas as pd\n",
    "import numpy as np\n",
    "# libraries\n",
    "import sklearn\n",
    "from sklearn.tree import DecisionTreeClassifier\n",
    "from sklearn.model_selection import train_test_split\n",
    "from sklearn.ensemble import RandomForestClassifier\n",
    "from sklearn.metrics import confusion_matrix, ConfusionMatrixDisplay\n",
    "from sklearn.model_selection import cross_val_score\n",
    "from sklearn.model_selection import KFold\n",
    "from sklearn.model_selection import StratifiedKFold\n",
    "from sklearn.svm import SVC"
   ]
  },
  {
   "cell_type": "code",
   "execution_count": 2,
   "id": "61d04ff5",
   "metadata": {},
   "outputs": [
    {
     "ename": "FileNotFoundError",
     "evalue": "[Errno 2] No such file or directory: 'FinalDataset.csv'",
     "output_type": "error",
     "traceback": [
      "\u001b[1;31m---------------------------------------------------------------------------\u001b[0m",
      "\u001b[1;31mFileNotFoundError\u001b[0m                         Traceback (most recent call last)",
      "\u001b[1;32mC:\\Users\\EGATZI~1\\AppData\\Local\\Temp/ipykernel_24768/4049334111.py\u001b[0m in \u001b[0;36m<module>\u001b[1;34m\u001b[0m\n\u001b[0;32m      1\u001b[0m \u001b[1;31m# Reading the data file using pandas\u001b[0m\u001b[1;33m\u001b[0m\u001b[1;33m\u001b[0m\u001b[0m\n\u001b[1;32m----> 2\u001b[1;33m \u001b[0mdata1\u001b[0m \u001b[1;33m=\u001b[0m \u001b[0mpd\u001b[0m\u001b[1;33m.\u001b[0m\u001b[0mread_csv\u001b[0m\u001b[1;33m(\u001b[0m\u001b[1;34m'FinalDataset.csv'\u001b[0m\u001b[1;33m)\u001b[0m\u001b[1;33m\u001b[0m\u001b[1;33m\u001b[0m\u001b[0m\n\u001b[0m",
      "\u001b[1;32m~\\anaconda3\\lib\\site-packages\\pandas\\util\\_decorators.py\u001b[0m in \u001b[0;36mwrapper\u001b[1;34m(*args, **kwargs)\u001b[0m\n\u001b[0;32m    309\u001b[0m                     \u001b[0mstacklevel\u001b[0m\u001b[1;33m=\u001b[0m\u001b[0mstacklevel\u001b[0m\u001b[1;33m,\u001b[0m\u001b[1;33m\u001b[0m\u001b[1;33m\u001b[0m\u001b[0m\n\u001b[0;32m    310\u001b[0m                 )\n\u001b[1;32m--> 311\u001b[1;33m             \u001b[1;32mreturn\u001b[0m \u001b[0mfunc\u001b[0m\u001b[1;33m(\u001b[0m\u001b[1;33m*\u001b[0m\u001b[0margs\u001b[0m\u001b[1;33m,\u001b[0m \u001b[1;33m**\u001b[0m\u001b[0mkwargs\u001b[0m\u001b[1;33m)\u001b[0m\u001b[1;33m\u001b[0m\u001b[1;33m\u001b[0m\u001b[0m\n\u001b[0m\u001b[0;32m    312\u001b[0m \u001b[1;33m\u001b[0m\u001b[0m\n\u001b[0;32m    313\u001b[0m         \u001b[1;32mreturn\u001b[0m \u001b[0mwrapper\u001b[0m\u001b[1;33m\u001b[0m\u001b[1;33m\u001b[0m\u001b[0m\n",
      "\u001b[1;32m~\\anaconda3\\lib\\site-packages\\pandas\\io\\parsers\\readers.py\u001b[0m in \u001b[0;36mread_csv\u001b[1;34m(filepath_or_buffer, sep, delimiter, header, names, index_col, usecols, squeeze, prefix, mangle_dupe_cols, dtype, engine, converters, true_values, false_values, skipinitialspace, skiprows, skipfooter, nrows, na_values, keep_default_na, na_filter, verbose, skip_blank_lines, parse_dates, infer_datetime_format, keep_date_col, date_parser, dayfirst, cache_dates, iterator, chunksize, compression, thousands, decimal, lineterminator, quotechar, quoting, doublequote, escapechar, comment, encoding, encoding_errors, dialect, error_bad_lines, warn_bad_lines, on_bad_lines, delim_whitespace, low_memory, memory_map, float_precision, storage_options)\u001b[0m\n\u001b[0;32m    584\u001b[0m     \u001b[0mkwds\u001b[0m\u001b[1;33m.\u001b[0m\u001b[0mupdate\u001b[0m\u001b[1;33m(\u001b[0m\u001b[0mkwds_defaults\u001b[0m\u001b[1;33m)\u001b[0m\u001b[1;33m\u001b[0m\u001b[1;33m\u001b[0m\u001b[0m\n\u001b[0;32m    585\u001b[0m \u001b[1;33m\u001b[0m\u001b[0m\n\u001b[1;32m--> 586\u001b[1;33m     \u001b[1;32mreturn\u001b[0m \u001b[0m_read\u001b[0m\u001b[1;33m(\u001b[0m\u001b[0mfilepath_or_buffer\u001b[0m\u001b[1;33m,\u001b[0m \u001b[0mkwds\u001b[0m\u001b[1;33m)\u001b[0m\u001b[1;33m\u001b[0m\u001b[1;33m\u001b[0m\u001b[0m\n\u001b[0m\u001b[0;32m    587\u001b[0m \u001b[1;33m\u001b[0m\u001b[0m\n\u001b[0;32m    588\u001b[0m \u001b[1;33m\u001b[0m\u001b[0m\n",
      "\u001b[1;32m~\\anaconda3\\lib\\site-packages\\pandas\\io\\parsers\\readers.py\u001b[0m in \u001b[0;36m_read\u001b[1;34m(filepath_or_buffer, kwds)\u001b[0m\n\u001b[0;32m    480\u001b[0m \u001b[1;33m\u001b[0m\u001b[0m\n\u001b[0;32m    481\u001b[0m     \u001b[1;31m# Create the parser.\u001b[0m\u001b[1;33m\u001b[0m\u001b[1;33m\u001b[0m\u001b[0m\n\u001b[1;32m--> 482\u001b[1;33m     \u001b[0mparser\u001b[0m \u001b[1;33m=\u001b[0m \u001b[0mTextFileReader\u001b[0m\u001b[1;33m(\u001b[0m\u001b[0mfilepath_or_buffer\u001b[0m\u001b[1;33m,\u001b[0m \u001b[1;33m**\u001b[0m\u001b[0mkwds\u001b[0m\u001b[1;33m)\u001b[0m\u001b[1;33m\u001b[0m\u001b[1;33m\u001b[0m\u001b[0m\n\u001b[0m\u001b[0;32m    483\u001b[0m \u001b[1;33m\u001b[0m\u001b[0m\n\u001b[0;32m    484\u001b[0m     \u001b[1;32mif\u001b[0m \u001b[0mchunksize\u001b[0m \u001b[1;32mor\u001b[0m \u001b[0miterator\u001b[0m\u001b[1;33m:\u001b[0m\u001b[1;33m\u001b[0m\u001b[1;33m\u001b[0m\u001b[0m\n",
      "\u001b[1;32m~\\anaconda3\\lib\\site-packages\\pandas\\io\\parsers\\readers.py\u001b[0m in \u001b[0;36m__init__\u001b[1;34m(self, f, engine, **kwds)\u001b[0m\n\u001b[0;32m    809\u001b[0m             \u001b[0mself\u001b[0m\u001b[1;33m.\u001b[0m\u001b[0moptions\u001b[0m\u001b[1;33m[\u001b[0m\u001b[1;34m\"has_index_names\"\u001b[0m\u001b[1;33m]\u001b[0m \u001b[1;33m=\u001b[0m \u001b[0mkwds\u001b[0m\u001b[1;33m[\u001b[0m\u001b[1;34m\"has_index_names\"\u001b[0m\u001b[1;33m]\u001b[0m\u001b[1;33m\u001b[0m\u001b[1;33m\u001b[0m\u001b[0m\n\u001b[0;32m    810\u001b[0m \u001b[1;33m\u001b[0m\u001b[0m\n\u001b[1;32m--> 811\u001b[1;33m         \u001b[0mself\u001b[0m\u001b[1;33m.\u001b[0m\u001b[0m_engine\u001b[0m \u001b[1;33m=\u001b[0m \u001b[0mself\u001b[0m\u001b[1;33m.\u001b[0m\u001b[0m_make_engine\u001b[0m\u001b[1;33m(\u001b[0m\u001b[0mself\u001b[0m\u001b[1;33m.\u001b[0m\u001b[0mengine\u001b[0m\u001b[1;33m)\u001b[0m\u001b[1;33m\u001b[0m\u001b[1;33m\u001b[0m\u001b[0m\n\u001b[0m\u001b[0;32m    812\u001b[0m \u001b[1;33m\u001b[0m\u001b[0m\n\u001b[0;32m    813\u001b[0m     \u001b[1;32mdef\u001b[0m \u001b[0mclose\u001b[0m\u001b[1;33m(\u001b[0m\u001b[0mself\u001b[0m\u001b[1;33m)\u001b[0m\u001b[1;33m:\u001b[0m\u001b[1;33m\u001b[0m\u001b[1;33m\u001b[0m\u001b[0m\n",
      "\u001b[1;32m~\\anaconda3\\lib\\site-packages\\pandas\\io\\parsers\\readers.py\u001b[0m in \u001b[0;36m_make_engine\u001b[1;34m(self, engine)\u001b[0m\n\u001b[0;32m   1038\u001b[0m             )\n\u001b[0;32m   1039\u001b[0m         \u001b[1;31m# error: Too many arguments for \"ParserBase\"\u001b[0m\u001b[1;33m\u001b[0m\u001b[1;33m\u001b[0m\u001b[0m\n\u001b[1;32m-> 1040\u001b[1;33m         \u001b[1;32mreturn\u001b[0m \u001b[0mmapping\u001b[0m\u001b[1;33m[\u001b[0m\u001b[0mengine\u001b[0m\u001b[1;33m]\u001b[0m\u001b[1;33m(\u001b[0m\u001b[0mself\u001b[0m\u001b[1;33m.\u001b[0m\u001b[0mf\u001b[0m\u001b[1;33m,\u001b[0m \u001b[1;33m**\u001b[0m\u001b[0mself\u001b[0m\u001b[1;33m.\u001b[0m\u001b[0moptions\u001b[0m\u001b[1;33m)\u001b[0m  \u001b[1;31m# type: ignore[call-arg]\u001b[0m\u001b[1;33m\u001b[0m\u001b[1;33m\u001b[0m\u001b[0m\n\u001b[0m\u001b[0;32m   1041\u001b[0m \u001b[1;33m\u001b[0m\u001b[0m\n\u001b[0;32m   1042\u001b[0m     \u001b[1;32mdef\u001b[0m \u001b[0m_failover_to_python\u001b[0m\u001b[1;33m(\u001b[0m\u001b[0mself\u001b[0m\u001b[1;33m)\u001b[0m\u001b[1;33m:\u001b[0m\u001b[1;33m\u001b[0m\u001b[1;33m\u001b[0m\u001b[0m\n",
      "\u001b[1;32m~\\anaconda3\\lib\\site-packages\\pandas\\io\\parsers\\c_parser_wrapper.py\u001b[0m in \u001b[0;36m__init__\u001b[1;34m(self, src, **kwds)\u001b[0m\n\u001b[0;32m     49\u001b[0m \u001b[1;33m\u001b[0m\u001b[0m\n\u001b[0;32m     50\u001b[0m         \u001b[1;31m# open handles\u001b[0m\u001b[1;33m\u001b[0m\u001b[1;33m\u001b[0m\u001b[0m\n\u001b[1;32m---> 51\u001b[1;33m         \u001b[0mself\u001b[0m\u001b[1;33m.\u001b[0m\u001b[0m_open_handles\u001b[0m\u001b[1;33m(\u001b[0m\u001b[0msrc\u001b[0m\u001b[1;33m,\u001b[0m \u001b[0mkwds\u001b[0m\u001b[1;33m)\u001b[0m\u001b[1;33m\u001b[0m\u001b[1;33m\u001b[0m\u001b[0m\n\u001b[0m\u001b[0;32m     52\u001b[0m         \u001b[1;32massert\u001b[0m \u001b[0mself\u001b[0m\u001b[1;33m.\u001b[0m\u001b[0mhandles\u001b[0m \u001b[1;32mis\u001b[0m \u001b[1;32mnot\u001b[0m \u001b[1;32mNone\u001b[0m\u001b[1;33m\u001b[0m\u001b[1;33m\u001b[0m\u001b[0m\n\u001b[0;32m     53\u001b[0m \u001b[1;33m\u001b[0m\u001b[0m\n",
      "\u001b[1;32m~\\anaconda3\\lib\\site-packages\\pandas\\io\\parsers\\base_parser.py\u001b[0m in \u001b[0;36m_open_handles\u001b[1;34m(self, src, kwds)\u001b[0m\n\u001b[0;32m    220\u001b[0m         \u001b[0mLet\u001b[0m \u001b[0mthe\u001b[0m \u001b[0mreaders\u001b[0m \u001b[0mopen\u001b[0m \u001b[0mIOHandles\u001b[0m \u001b[0mafter\u001b[0m \u001b[0mthey\u001b[0m \u001b[0mare\u001b[0m \u001b[0mdone\u001b[0m \u001b[1;32mwith\u001b[0m \u001b[0mtheir\u001b[0m \u001b[0mpotential\u001b[0m \u001b[0mraises\u001b[0m\u001b[1;33m.\u001b[0m\u001b[1;33m\u001b[0m\u001b[1;33m\u001b[0m\u001b[0m\n\u001b[0;32m    221\u001b[0m         \"\"\"\n\u001b[1;32m--> 222\u001b[1;33m         self.handles = get_handle(\n\u001b[0m\u001b[0;32m    223\u001b[0m             \u001b[0msrc\u001b[0m\u001b[1;33m,\u001b[0m\u001b[1;33m\u001b[0m\u001b[1;33m\u001b[0m\u001b[0m\n\u001b[0;32m    224\u001b[0m             \u001b[1;34m\"r\"\u001b[0m\u001b[1;33m,\u001b[0m\u001b[1;33m\u001b[0m\u001b[1;33m\u001b[0m\u001b[0m\n",
      "\u001b[1;32m~\\anaconda3\\lib\\site-packages\\pandas\\io\\common.py\u001b[0m in \u001b[0;36mget_handle\u001b[1;34m(path_or_buf, mode, encoding, compression, memory_map, is_text, errors, storage_options)\u001b[0m\n\u001b[0;32m    700\u001b[0m         \u001b[1;32mif\u001b[0m \u001b[0mioargs\u001b[0m\u001b[1;33m.\u001b[0m\u001b[0mencoding\u001b[0m \u001b[1;32mand\u001b[0m \u001b[1;34m\"b\"\u001b[0m \u001b[1;32mnot\u001b[0m \u001b[1;32min\u001b[0m \u001b[0mioargs\u001b[0m\u001b[1;33m.\u001b[0m\u001b[0mmode\u001b[0m\u001b[1;33m:\u001b[0m\u001b[1;33m\u001b[0m\u001b[1;33m\u001b[0m\u001b[0m\n\u001b[0;32m    701\u001b[0m             \u001b[1;31m# Encoding\u001b[0m\u001b[1;33m\u001b[0m\u001b[1;33m\u001b[0m\u001b[0m\n\u001b[1;32m--> 702\u001b[1;33m             handle = open(\n\u001b[0m\u001b[0;32m    703\u001b[0m                 \u001b[0mhandle\u001b[0m\u001b[1;33m,\u001b[0m\u001b[1;33m\u001b[0m\u001b[1;33m\u001b[0m\u001b[0m\n\u001b[0;32m    704\u001b[0m                 \u001b[0mioargs\u001b[0m\u001b[1;33m.\u001b[0m\u001b[0mmode\u001b[0m\u001b[1;33m,\u001b[0m\u001b[1;33m\u001b[0m\u001b[1;33m\u001b[0m\u001b[0m\n",
      "\u001b[1;31mFileNotFoundError\u001b[0m: [Errno 2] No such file or directory: 'FinalDataset.csv'"
     ]
    }
   ],
   "source": [
    "# Reading the data file using pandas\n",
    "data1 = pd.read_csv('FinalDataset.csv')\n"
   ]
  },
  {
   "cell_type": "code",
   "execution_count": null,
   "id": "f5182126",
   "metadata": {},
   "outputs": [],
   "source": [
    "#viewing all rows of a pandas dataframe\n",
    "pd.set_option('display.max_rows', None)"
   ]
  },
  {
   "cell_type": "markdown",
   "id": "722ce512",
   "metadata": {},
   "source": [
    "## Data pre-processing"
   ]
  },
  {
   "cell_type": "code",
   "execution_count": null,
   "id": "06aad8a5",
   "metadata": {},
   "outputs": [],
   "source": [
    "#grouping the important attributes by 'STOCK' and 'DATE'\n",
    "#calculating the mean of the attributes\n",
    "#resetting the index after each calculation\n",
    "averagewords = data1.groupby([\"STOCK\", \"DATE\"])[\"WordsPerTweet\"].mean().reset_index()\n",
    "averageletters = data1.groupby([\"STOCK\", \"DATE\"])[\"LettersPerTweet\"].mean().reset_index()\n",
    "nrtweets = data1.groupby([\"STOCK\", \"DATE\"])[\"LAST_PRICE\"].count().reset_index()\n",
    "nrnouns = data1.groupby([\"STOCK\", \"DATE\"])[\"NOUN\"].mean().reset_index()\n",
    "nrverbs = data1.groupby([\"STOCK\", \"DATE\"])[\"VERB\"].mean().reset_index()\n",
    "nradj = data1.groupby([\"STOCK\", \"DATE\"])[\"ADJ\"].mean().reset_index()\n",
    "polarity = data1.groupby([\"STOCK\", \"DATE\"])[\"LSTM_POLARITY\"].mean().reset_index()\n",
    "textblob = data1.groupby([\"STOCK\", \"DATE\"])[\"TEXTBLOB_POLARITY\"].mean().reset_index()\n",
    "volatility10 = data1.groupby([\"STOCK\", \"DATE\"])[\"VOLATILITY_10D\"].mean().reset_index()\n",
    "volatility30 = data1.groupby([\"STOCK\", \"DATE\"])[\"VOLATILITY_30D\"].mean().reset_index()"
   ]
  },
  {
   "cell_type": "code",
   "execution_count": null,
   "id": "1b5d1fc3",
   "metadata": {},
   "outputs": [],
   "source": [
    "averagewords['tuple'] = list(zip(averagewords['STOCK'], averagewords['DATE']))"
   ]
  },
  {
   "cell_type": "code",
   "execution_count": null,
   "id": "13c2d295",
   "metadata": {},
   "outputs": [],
   "source": [
    "#adding the features to a dictionary\n",
    "avglettersdict = dict(zip(list(zip(averageletters['STOCK'], averageletters['DATE'])), averageletters['LettersPerTweet']))\n",
    "nrtweetsdict = dict(zip(list(zip(nrtweets['STOCK'], nrtweets['DATE'])), nrtweets['LAST_PRICE']))\n",
    "noundict = dict(zip(list(zip(nrnouns['STOCK'], nrnouns['DATE'])), nrnouns['NOUN']))\n",
    "verbdict = dict(zip(list(zip(nrverbs['STOCK'], nrverbs['DATE'])), nrverbs['VERB']))\n",
    "adjdict = dict(zip(list(zip(nradj['STOCK'], nradj['DATE'])), nradj['ADJ']))\n",
    "closingpricedict =  dict(zip(list(zip(data1['STOCK'], data1['DATE'])), data1['LAST_PRICE']))\n",
    "polaritydict =  dict(zip(list(zip(polarity['STOCK'], polarity['DATE'])), polarity['LSTM_POLARITY']))\n",
    "textblobdict =  dict(zip(list(zip(textblob['STOCK'], textblob['DATE'])), textblob['TEXTBLOB_POLARITY']))\n",
    "volatility10dict =  dict(zip(list(zip(volatility10['STOCK'], volatility10['DATE'])), volatility10['VOLATILITY_10D']))\n",
    "volatility30dict =  dict(zip(list(zip(volatility30['STOCK'], volatility30['DATE'])), volatility30['VOLATILITY_30D']))"
   ]
  },
  {
   "cell_type": "code",
   "execution_count": null,
   "id": "8067bd0c",
   "metadata": {},
   "outputs": [],
   "source": [
    "#adding the important attributes to the 'averagewords' dataframe\n",
    "averagewords['Tweets Per Day'] = averagewords['tuple'].apply(lambda x : nrtweetsdict[x])\n",
    "averagewords['Average Letters Per Tweet'] = averagewords['tuple'].apply(lambda x : avglettersdict[x])\n",
    "averagewords['Average Nouns Per Tweet'] = averagewords['tuple'].apply(lambda x : noundict[x])\n",
    "averagewords['Average Verbs Per Tweet'] = averagewords['tuple'].apply(lambda x : verbdict[x])\n",
    "averagewords['Average Adjectives Per Tweet'] = averagewords['tuple'].apply(lambda x : adjdict[x])\n",
    "averagewords['Average Sentiment Per Tweet'] = averagewords['tuple'].apply(lambda x : polaritydict[x])\n",
    "averagewords['Average Textblob Sentiment Per Tweet'] = averagewords['tuple'].apply(lambda x : textblobdict[x])\n",
    "averagewords['Average 10Day Volatilty'] = averagewords['tuple'].apply(lambda x : volatility10dict[x])\n",
    "averagewords['Average 30Day Volatilty'] = averagewords['tuple'].apply(lambda x : volatility30dict[x])\n",
    "averagewords['Closing Price'] = averagewords['tuple'].apply(lambda x : closingpricedict[x])"
   ]
  },
  {
   "cell_type": "code",
   "execution_count": null,
   "id": "e5ba512c",
   "metadata": {
    "scrolled": true
   },
   "outputs": [],
   "source": [
    "averagewords = averagewords.drop(columns = ['tuple']) \n",
    "#convert 'DATE' column to date type\n",
    "averagewords['DATE'] = pd.to_datetime(averagewords['DATE'])\n",
    "#performing experiments by adding or dropping specific columns to the dataset\n",
    "#averagewords = averagewords.drop(columns = ['Average 10Day Volatilty','Average 30Day Volatilty', 'WordsPerTweet', 'Average Tweets Per Day', 'Average Letters Per Tweet', 'Average Nouns Per Tweet'])\n",
    "averagewords = averagewords.drop(columns = ['Average 10Day Volatilty','Average 30Day Volatilty']) "
   ]
  },
  {
   "cell_type": "code",
   "execution_count": null,
   "id": "316332d1",
   "metadata": {},
   "outputs": [],
   "source": [
    "#Sorting the dataset by Stock and Date\n",
    "averagewords = averagewords.sort_values(['STOCK', 'DATE'],\n",
    "              ascending = [True, True]).reset_index(drop=True)"
   ]
  },
  {
   "cell_type": "markdown",
   "id": "306f50b6",
   "metadata": {},
   "source": [
    "## Creating a class attribute"
   ]
  },
  {
   "cell_type": "code",
   "execution_count": null,
   "id": "9ed908dd",
   "metadata": {
    "scrolled": true
   },
   "outputs": [],
   "source": [
    "Prediction = []\n",
    "count = 0\n",
    "interval = 1\n",
    "not_found = []\n",
    "\n",
    "for index in range(len(averagewords)):\n",
    "    currentStock = averagewords.loc[index, 'STOCK']\n",
    "    future_index = index + interval\n",
    "    \n",
    "    while future_index < len(averagewords):\n",
    "        #If statement that makes sure that the stocks are independent from each other\n",
    "        if averagewords.loc[future_index, 'STOCK'] == currentStock:\n",
    "            price = averagewords.iloc[index]['Closing Price']\n",
    "            future_price = averagewords.iloc[future_index]['Closing Price'] \n",
    "            #if the difference between the future and current price is greater than 0\n",
    "            #assign the class variable to 1\n",
    "            #else assign the class variable to 0\n",
    "            if future_price - price > 0:\n",
    "                Prediction.append(1) \n",
    "            else:\n",
    "                Prediction.append(0)\n",
    "            break\n",
    "        else:\n",
    "            future_index += 1\n",
    "          \n",
    "    if future_index >= len(averagewords):\n",
    "        not_found.append(index)\n",
    "\n",
    "averagewords = averagewords.drop(not_found)\n",
    "averagewords.reset_index(drop=True)\n",
    "\n",
    "averagewords[\"Class\"] = np.array(Prediction)\n",
    "\n",
    "print(len(averagewords), len(Prediction))        \n",
    "\n",
    "#averagewords"
   ]
  },
  {
   "cell_type": "code",
   "execution_count": null,
   "id": "c94db0d6",
   "metadata": {
    "scrolled": false
   },
   "outputs": [],
   "source": [
    "# information regarding the attributes\n",
    "averagewords.info()"
   ]
  },
  {
   "cell_type": "code",
   "execution_count": null,
   "id": "05ae2b1c",
   "metadata": {},
   "outputs": [],
   "source": [
    "# check whether there are any duplicates\n",
    "averagewords.duplicated().sum()"
   ]
  },
  {
   "cell_type": "code",
   "execution_count": null,
   "id": "6b16a916",
   "metadata": {},
   "outputs": [],
   "source": [
    "#checking the number of null values for each column\n",
    "averagewords.isnull().sum()"
   ]
  },
  {
   "cell_type": "code",
   "execution_count": null,
   "id": "e4a28974",
   "metadata": {},
   "outputs": [],
   "source": [
    "# check the shape of the dataset\n",
    "averagewords.shape"
   ]
  },
  {
   "cell_type": "code",
   "execution_count": null,
   "id": "1c4f617b",
   "metadata": {},
   "outputs": [],
   "source": [
    "# see the class distribution\n",
    "averagewords[\"Class\"].groupby(averagewords[\"Class\"]).count()"
   ]
  },
  {
   "cell_type": "markdown",
   "id": "7274fc4e",
   "metadata": {},
   "source": [
    "## Creating the classifiers and performing experiments"
   ]
  },
  {
   "cell_type": "markdown",
   "id": "5f8dac8d",
   "metadata": {},
   "source": [
    "### Random Forest"
   ]
  },
  {
   "cell_type": "code",
   "execution_count": null,
   "id": "ed610199",
   "metadata": {},
   "outputs": [],
   "source": [
    "#prepare training data\n",
    "#predictor and class attributes\n",
    "X = averagewords.loc[:,'WordsPerTweet': 'Closing Price']\n",
    "y = averagewords['Class']\n",
    "\n",
    "scores = 0\n",
    "\n",
    "for i in range(30):\n",
    "    # splits the data in training + testing\n",
    "    X_train, X_test, y_train, y_test = train_test_split(X, y, test_size=0.2, random_state=i)\n",
    "    # builds the classifier\n",
    "    forest = RandomForestClassifier()\n",
    "    forest.fit(X_train, y_train)\n",
    "    # evaluates on the test data\n",
    "    scores += forest.score(X_test, y_test)\n",
    "    \n",
    "print(scores / 30)"
   ]
  },
  {
   "cell_type": "markdown",
   "id": "10a2ad51",
   "metadata": {},
   "source": [
    "### Decision Tree"
   ]
  },
  {
   "cell_type": "code",
   "execution_count": null,
   "id": "2ae985fe",
   "metadata": {},
   "outputs": [],
   "source": [
    "#prepare training data\n",
    "#predictor and class attributes\n",
    "X = averagewords.loc[:,'WordsPerTweet': 'Closing Price']\n",
    "y = averagewords['Class']\n",
    "\n",
    "scores = 0\n",
    "\n",
    "for i in range(30):\n",
    "    # splits the data in training + testing\n",
    "    X_train, X_test, y_train, y_test = train_test_split(X, y, test_size=0.2, random_state=i)\n",
    "    # builds the classifier\n",
    "    tree = DecisionTreeClassifier()\n",
    "    tree.fit(X_train, y_train)\n",
    "    # evaluates on the test data\n",
    "    scores += tree.score(X_test, y_test)\n",
    "    \n",
    "print(scores / 30) "
   ]
  },
  {
   "cell_type": "markdown",
   "id": "9689392b",
   "metadata": {},
   "source": [
    " ### Support Vector Machine"
   ]
  },
  {
   "cell_type": "code",
   "execution_count": null,
   "id": "83df6554",
   "metadata": {},
   "outputs": [],
   "source": [
    "#prepare training data\n",
    "#predictor and class attributes\n",
    "X = averagewords.loc[:,'WordsPerTweet': 'Closing Price']\n",
    "y = averagewords['Class']\n",
    "\n",
    "scores = 0\n",
    "\n",
    "for i in range(30):\n",
    "    # splits the data in training + testing\n",
    "    X_train, X_test, y_train, y_test = train_test_split(X, y, test_size=0.2, random_state=i)\n",
    "    # builds the classifier\n",
    "    svm = SVC()\n",
    "    svm.fit(X_train, y_train)\n",
    "    # evaluates on the test data\n",
    "    scores += svm.score(X_test, y_test)\n",
    "    \n",
    "print(scores / 30) "
   ]
  },
  {
   "cell_type": "markdown",
   "id": "f3278249",
   "metadata": {},
   "source": [
    "### StratifiedKfold cross-validation"
   ]
  },
  {
   "cell_type": "code",
   "execution_count": null,
   "id": "213c076a",
   "metadata": {},
   "outputs": [],
   "source": [
    "#a function which gets the cross-validation score\n",
    "def get_score(model, X_train, X_test, y_train, y_test):\n",
    "    model.fit(X_train, y_train)\n",
    "    return model.score(X_test, y_test)\n"
   ]
  },
  {
   "cell_type": "code",
   "execution_count": null,
   "id": "27962453",
   "metadata": {},
   "outputs": [],
   "source": [
    "# stratified cross-validation\n",
    "kf = StratifiedKFold(n_splits=10)\n",
    "kf"
   ]
  },
  {
   "cell_type": "code",
   "execution_count": null,
   "id": "d6cdcc9c",
   "metadata": {},
   "outputs": [],
   "source": [
    "# specifying the predictor and class attributes\n",
    "X = averagewords.loc[:,'WordsPerTweet': 'Closing Price']\n",
    "y = averagewords['Class']"
   ]
  },
  {
   "cell_type": "code",
   "execution_count": null,
   "id": "c4824c38",
   "metadata": {
    "scrolled": true
   },
   "outputs": [],
   "source": [
    "#creating a list for each classifier\n",
    "scores_rf = []\n",
    "scores_dTree = [] \n",
    "scores_svm = []\n",
    "\n",
    "for train_index, test_index, in kf.split(X, y):\n",
    "    X_train, X_test = X.iloc[train_index, :], X.iloc[test_index, :]\n",
    "    y_train = y.iloc[train_index]\n",
    "    y_test = y.iloc[test_index]\n",
    "   \n",
    "    scores_rf.append(get_score(RandomForestClassifier(n_estimators=80), X_train, X_test, y_train, y_test))\n",
    "    scores_dTree.append(get_score(DecisionTreeClassifier(), X_train, X_test, y_train, y_test))\n",
    "    scores_svm.append(get_score(SVC(), X_train, X_test, y_train, y_test))\n",
    "  "
   ]
  },
  {
   "cell_type": "code",
   "execution_count": null,
   "id": "da40a4f9",
   "metadata": {},
   "outputs": [],
   "source": [
    "#a function that divides the sum of the scores by the total amount of scores\n",
    "def Average(lst):\n",
    "    return sum(lst) / len(lst)"
   ]
  },
  {
   "cell_type": "code",
   "execution_count": null,
   "id": "3974aeec",
   "metadata": {},
   "outputs": [],
   "source": [
    "scores_rf"
   ]
  },
  {
   "cell_type": "code",
   "execution_count": null,
   "id": "a5355581",
   "metadata": {},
   "outputs": [],
   "source": [
    "#calculating the average of the 10 scores\n",
    "average = Average(scores_rf)\n",
    "print(\"Average of RF Scores =\", round(average, 2))"
   ]
  },
  {
   "cell_type": "code",
   "execution_count": null,
   "id": "50039ade",
   "metadata": {},
   "outputs": [],
   "source": [
    "#calculating the standard deviation of the scores\n",
    "st_dev1 = np.std(scores_rf)\n",
    "print(\"Standard deviation of RF: \" + str(st_dev1))"
   ]
  },
  {
   "cell_type": "code",
   "execution_count": null,
   "id": "0403a177",
   "metadata": {},
   "outputs": [],
   "source": [
    "scores_dTree"
   ]
  },
  {
   "cell_type": "code",
   "execution_count": null,
   "id": "70467270",
   "metadata": {},
   "outputs": [],
   "source": [
    "#calculating the average of the 10 scores\n",
    "average = Average(scores_dTree)\n",
    "print(\"Average of Decision Tree Scores =\", round(average, 2))"
   ]
  },
  {
   "cell_type": "code",
   "execution_count": null,
   "id": "fa3270b1",
   "metadata": {},
   "outputs": [],
   "source": [
    "#calculating the standard deviation of the scores\n",
    "st_dev2 = np.std(scores_dTree)\n",
    "print(\"Standard deviation of Decision Tree: \" + str(st_dev2))"
   ]
  },
  {
   "cell_type": "code",
   "execution_count": null,
   "id": "c56fb949",
   "metadata": {},
   "outputs": [],
   "source": [
    "scores_svm"
   ]
  },
  {
   "cell_type": "code",
   "execution_count": null,
   "id": "fdb4f528",
   "metadata": {},
   "outputs": [],
   "source": [
    "#calculating the average of the 10 scores\n",
    "average = Average(scores_svm)\n",
    "print(\"Average of SVM Scores =\", round(average, 2))"
   ]
  },
  {
   "cell_type": "code",
   "execution_count": null,
   "id": "c602cf4b",
   "metadata": {},
   "outputs": [],
   "source": [
    "#calculating the standard deviation of the scores\n",
    "st_dev3 = np.std(scores_svm)\n",
    "print(\"Standard deviation of SVM: \" + str(st_dev3))"
   ]
  }
 ],
 "metadata": {
  "kernelspec": {
   "display_name": "Python 3 (ipykernel)",
   "language": "python",
   "name": "python3"
  },
  "language_info": {
   "codemirror_mode": {
    "name": "ipython",
    "version": 3
   },
   "file_extension": ".py",
   "mimetype": "text/x-python",
   "name": "python",
   "nbconvert_exporter": "python",
   "pygments_lexer": "ipython3",
   "version": "3.9.7"
  }
 },
 "nbformat": 4,
 "nbformat_minor": 5
}
