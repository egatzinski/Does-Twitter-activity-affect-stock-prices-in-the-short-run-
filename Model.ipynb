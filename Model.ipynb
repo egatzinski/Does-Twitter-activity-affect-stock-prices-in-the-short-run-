{
 "cells": [
  {
   "cell_type": "code",
   "execution_count": 1,
   "id": "5ffdf366",
   "metadata": {},
   "outputs": [],
   "source": [
    "# basic libraries to work on the dataframe\n",
    "import pandas as pd\n",
    "import numpy as np\n",
    "# libraries\n",
    "import sklearn\n",
    "from sklearn.tree import DecisionTreeClassifier\n",
    "from sklearn.model_selection import train_test_split\n",
    "from sklearn.ensemble import RandomForestClassifier\n",
    "from sklearn.metrics import confusion_matrix, ConfusionMatrixDisplay\n",
    "from sklearn.model_selection import cross_val_score\n",
    "from sklearn.model_selection import KFold\n",
    "from sklearn.model_selection import StratifiedKFold\n",
    "from sklearn.svm import SVC"
   ]
  },
  {
   "cell_type": "code",
   "execution_count": 2,
   "id": "61d04ff5",
   "metadata": {},
   "outputs": [],
   "source": [
    "# Reading the data file using pandas\n",
    "data1 = pd.read_csv('FinalDataset.csv')\n"
   ]
  },
  {
   "cell_type": "code",
   "execution_count": 3,
   "id": "f5182126",
   "metadata": {},
   "outputs": [],
   "source": [
    "#viewing all rows of a pandas dataframe\n",
    "pd.set_option('display.max_rows', None)"
   ]
  },
  {
   "cell_type": "markdown",
   "id": "722ce512",
   "metadata": {},
   "source": [
    "## Data pre-processing"
   ]
  },
  {
   "cell_type": "code",
   "execution_count": 4,
   "id": "06aad8a5",
   "metadata": {},
   "outputs": [],
   "source": [
    "#grouping the important attributes by 'STOCK' and 'DATE'\n",
    "#calculating the mean of the attributes\n",
    "#resetting the index after each calculation\n",
    "averagewords = data1.groupby([\"STOCK\", \"DATE\"])[\"WordsPerTweet\"].mean().reset_index()\n",
    "averageletters = data1.groupby([\"STOCK\", \"DATE\"])[\"LettersPerTweet\"].mean().reset_index()\n",
    "nrtweets = data1.groupby([\"STOCK\", \"DATE\"])[\"LAST_PRICE\"].count().reset_index()\n",
    "nrnouns = data1.groupby([\"STOCK\", \"DATE\"])[\"NOUN\"].mean().reset_index()\n",
    "nrverbs = data1.groupby([\"STOCK\", \"DATE\"])[\"VERB\"].mean().reset_index()\n",
    "nradj = data1.groupby([\"STOCK\", \"DATE\"])[\"ADJ\"].mean().reset_index()\n",
    "polarity = data1.groupby([\"STOCK\", \"DATE\"])[\"LSTM_POLARITY\"].mean().reset_index()\n",
    "textblob = data1.groupby([\"STOCK\", \"DATE\"])[\"TEXTBLOB_POLARITY\"].mean().reset_index()\n",
    "volatility10 = data1.groupby([\"STOCK\", \"DATE\"])[\"VOLATILITY_10D\"].mean().reset_index()\n",
    "volatility30 = data1.groupby([\"STOCK\", \"DATE\"])[\"VOLATILITY_30D\"].mean().reset_index()"
   ]
  },
  {
   "cell_type": "code",
   "execution_count": 5,
   "id": "1b5d1fc3",
   "metadata": {},
   "outputs": [],
   "source": [
    "averagewords['tuple'] = list(zip(averagewords['STOCK'], averagewords['DATE']))"
   ]
  },
  {
   "cell_type": "code",
   "execution_count": 6,
   "id": "13c2d295",
   "metadata": {},
   "outputs": [],
   "source": [
    "#adding the features to a dictionary\n",
    "avglettersdict = dict(zip(list(zip(averageletters['STOCK'], averageletters['DATE'])), averageletters['LettersPerTweet']))\n",
    "nrtweetsdict = dict(zip(list(zip(nrtweets['STOCK'], nrtweets['DATE'])), nrtweets['LAST_PRICE']))\n",
    "noundict = dict(zip(list(zip(nrnouns['STOCK'], nrnouns['DATE'])), nrnouns['NOUN']))\n",
    "verbdict = dict(zip(list(zip(nrverbs['STOCK'], nrverbs['DATE'])), nrverbs['VERB']))\n",
    "adjdict = dict(zip(list(zip(nradj['STOCK'], nradj['DATE'])), nradj['ADJ']))\n",
    "closingpricedict =  dict(zip(list(zip(data1['STOCK'], data1['DATE'])), data1['LAST_PRICE']))\n",
    "polaritydict =  dict(zip(list(zip(polarity['STOCK'], polarity['DATE'])), polarity['LSTM_POLARITY']))\n",
    "textblobdict =  dict(zip(list(zip(textblob['STOCK'], textblob['DATE'])), textblob['TEXTBLOB_POLARITY']))\n",
    "volatility10dict =  dict(zip(list(zip(volatility10['STOCK'], volatility10['DATE'])), volatility10['VOLATILITY_10D']))\n",
    "volatility30dict =  dict(zip(list(zip(volatility30['STOCK'], volatility30['DATE'])), volatility30['VOLATILITY_30D']))"
   ]
  },
  {
   "cell_type": "code",
   "execution_count": 7,
   "id": "8067bd0c",
   "metadata": {},
   "outputs": [],
   "source": [
    "#adding the important attributes to the 'averagewords' dataframe\n",
    "averagewords['Tweets Per Day'] = averagewords['tuple'].apply(lambda x : nrtweetsdict[x])\n",
    "averagewords['Average Letters Per Tweet'] = averagewords['tuple'].apply(lambda x : avglettersdict[x])\n",
    "averagewords['Average Nouns Per Tweet'] = averagewords['tuple'].apply(lambda x : noundict[x])\n",
    "averagewords['Average Verbs Per Tweet'] = averagewords['tuple'].apply(lambda x : verbdict[x])\n",
    "averagewords['Average Adjectives Per Tweet'] = averagewords['tuple'].apply(lambda x : adjdict[x])\n",
    "averagewords['Average Sentiment Per Tweet'] = averagewords['tuple'].apply(lambda x : polaritydict[x])\n",
    "averagewords['Average Textblob Sentiment Per Tweet'] = averagewords['tuple'].apply(lambda x : textblobdict[x])\n",
    "averagewords['Average 10Day Volatilty'] = averagewords['tuple'].apply(lambda x : volatility10dict[x])\n",
    "averagewords['Average 30Day Volatilty'] = averagewords['tuple'].apply(lambda x : volatility30dict[x])\n",
    "averagewords['Closing Price'] = averagewords['tuple'].apply(lambda x : closingpricedict[x])"
   ]
  },
  {
   "cell_type": "code",
   "execution_count": 8,
   "id": "e5ba512c",
   "metadata": {
    "scrolled": true
   },
   "outputs": [],
   "source": [
    "averagewords = averagewords.drop(columns = ['tuple']) \n",
    "#convert 'DATE' column to date type\n",
    "averagewords['DATE'] = pd.to_datetime(averagewords['DATE'])\n",
    "#performing experiments by adding or dropping specific columns to the dataset\n",
    "#averagewords = averagewords.drop(columns = ['Average 10Day Volatilty','Average 30Day Volatilty', 'WordsPerTweet', 'Average Tweets Per Day', 'Average Letters Per Tweet', 'Average Nouns Per Tweet'])\n",
    "averagewords = averagewords.drop(columns = ['Average 10Day Volatilty','Average 30Day Volatilty']) "
   ]
  },
  {
   "cell_type": "code",
   "execution_count": 9,
   "id": "316332d1",
   "metadata": {},
   "outputs": [],
   "source": [
    "#Sorting the dataset by Stock and Date\n",
    "averagewords = averagewords.sort_values(['STOCK', 'DATE'],\n",
    "              ascending = [True, True]).reset_index(drop=True)"
   ]
  },
  {
   "cell_type": "markdown",
   "id": "306f50b6",
   "metadata": {},
   "source": [
    "## Creating a class attribute"
   ]
  },
  {
   "cell_type": "code",
   "execution_count": 10,
   "id": "9ed908dd",
   "metadata": {
    "scrolled": true
   },
   "outputs": [
    {
     "name": "stdout",
     "output_type": "stream",
     "text": [
      "503 503\n"
     ]
    }
   ],
   "source": [
    "Prediction = []\n",
    "count = 0\n",
    "interval = 1\n",
    "not_found = []\n",
    "\n",
    "for index in range(len(averagewords)):\n",
    "    currentStock = averagewords.loc[index, 'STOCK']\n",
    "    future_index = index + interval\n",
    "    \n",
    "    while future_index < len(averagewords):\n",
    "        #If statement that makes sure that the stocks are independent from each other\n",
    "        if averagewords.loc[future_index, 'STOCK'] == currentStock:\n",
    "            price = averagewords.iloc[index]['Closing Price']\n",
    "            future_price = averagewords.iloc[future_index]['Closing Price'] \n",
    "            #if the difference between the future and current price is greater than 0\n",
    "            #assign the class variable to 1\n",
    "            #else assign the class variable to 0\n",
    "            if future_price - price > 0:\n",
    "                Prediction.append(1) \n",
    "            else:\n",
    "                Prediction.append(0)\n",
    "            break\n",
    "        else:\n",
    "            future_index += 1\n",
    "          \n",
    "    if future_index >= len(averagewords):\n",
    "        not_found.append(index)\n",
    "\n",
    "averagewords = averagewords.drop(not_found)\n",
    "averagewords.reset_index(drop=True)\n",
    "\n",
    "averagewords[\"Class\"] = np.array(Prediction)\n",
    "\n",
    "print(len(averagewords), len(Prediction))        \n",
    "\n",
    "#averagewords"
   ]
  },
  {
   "cell_type": "code",
   "execution_count": 11,
   "id": "c94db0d6",
   "metadata": {
    "scrolled": false
   },
   "outputs": [
    {
     "name": "stdout",
     "output_type": "stream",
     "text": [
      "<class 'pandas.core.frame.DataFrame'>\n",
      "Int64Index: 503 entries, 0 to 507\n",
      "Data columns (total 12 columns):\n",
      " #   Column                                Non-Null Count  Dtype         \n",
      "---  ------                                --------------  -----         \n",
      " 0   STOCK                                 503 non-null    object        \n",
      " 1   DATE                                  503 non-null    datetime64[ns]\n",
      " 2   WordsPerTweet                         503 non-null    float64       \n",
      " 3   Tweets Per Day                        503 non-null    int64         \n",
      " 4   Average Letters Per Tweet             503 non-null    float64       \n",
      " 5   Average Nouns Per Tweet               503 non-null    float64       \n",
      " 6   Average Verbs Per Tweet               503 non-null    float64       \n",
      " 7   Average Adjectives Per Tweet          503 non-null    float64       \n",
      " 8   Average Sentiment Per Tweet           503 non-null    float64       \n",
      " 9   Average Textblob Sentiment Per Tweet  503 non-null    float64       \n",
      " 10  Closing Price                         503 non-null    float64       \n",
      " 11  Class                                 503 non-null    int32         \n",
      "dtypes: datetime64[ns](1), float64(8), int32(1), int64(1), object(1)\n",
      "memory usage: 49.1+ KB\n"
     ]
    }
   ],
   "source": [
    "# information regarding the attributes\n",
    "averagewords.info()"
   ]
  },
  {
   "cell_type": "code",
   "execution_count": 12,
   "id": "05ae2b1c",
   "metadata": {},
   "outputs": [
    {
     "data": {
      "text/plain": [
       "0"
      ]
     },
     "execution_count": 12,
     "metadata": {},
     "output_type": "execute_result"
    }
   ],
   "source": [
    "# check whether there are any duplicates\n",
    "averagewords.duplicated().sum()"
   ]
  },
  {
   "cell_type": "code",
   "execution_count": 13,
   "id": "6b16a916",
   "metadata": {},
   "outputs": [
    {
     "data": {
      "text/plain": [
       "STOCK                                   0\n",
       "DATE                                    0\n",
       "WordsPerTweet                           0\n",
       "Tweets Per Day                          0\n",
       "Average Letters Per Tweet               0\n",
       "Average Nouns Per Tweet                 0\n",
       "Average Verbs Per Tweet                 0\n",
       "Average Adjectives Per Tweet            0\n",
       "Average Sentiment Per Tweet             0\n",
       "Average Textblob Sentiment Per Tweet    0\n",
       "Closing Price                           0\n",
       "Class                                   0\n",
       "dtype: int64"
      ]
     },
     "execution_count": 13,
     "metadata": {},
     "output_type": "execute_result"
    }
   ],
   "source": [
    "#checking the number of null values for each column\n",
    "averagewords.isnull().sum()"
   ]
  },
  {
   "cell_type": "code",
   "execution_count": 14,
   "id": "e4a28974",
   "metadata": {},
   "outputs": [
    {
     "data": {
      "text/plain": [
       "(503, 12)"
      ]
     },
     "execution_count": 14,
     "metadata": {},
     "output_type": "execute_result"
    }
   ],
   "source": [
    "# check the shape of the dataset\n",
    "averagewords.shape"
   ]
  },
  {
   "cell_type": "code",
   "execution_count": 15,
   "id": "1c4f617b",
   "metadata": {},
   "outputs": [
    {
     "data": {
      "text/plain": [
       "Class\n",
       "0    271\n",
       "1    232\n",
       "Name: Class, dtype: int64"
      ]
     },
     "execution_count": 15,
     "metadata": {},
     "output_type": "execute_result"
    }
   ],
   "source": [
    "# see the class distribution\n",
    "averagewords[\"Class\"].groupby(averagewords[\"Class\"]).count()"
   ]
  },
  {
   "cell_type": "markdown",
   "id": "7274fc4e",
   "metadata": {},
   "source": [
    "## Creating the classifiers and performing experiments"
   ]
  },
  {
   "cell_type": "markdown",
   "id": "5f8dac8d",
   "metadata": {},
   "source": [
    "### Random Forest"
   ]
  },
  {
   "cell_type": "code",
   "execution_count": 16,
   "id": "ed610199",
   "metadata": {},
   "outputs": [
    {
     "name": "stdout",
     "output_type": "stream",
     "text": [
      "0.5617161716171616\n"
     ]
    }
   ],
   "source": [
    "#prepare training data\n",
    "#predictor and class attributes\n",
    "X = averagewords.loc[:,'WordsPerTweet': 'Closing Price']\n",
    "y = averagewords['Class']\n",
    "\n",
    "scores = 0\n",
    "\n",
    "for i in range(30):\n",
    "    # splits the data in training + testing\n",
    "    X_train, X_test, y_train, y_test = train_test_split(X, y, test_size=0.2, random_state=i)\n",
    "    # builds the classifier\n",
    "    forest = RandomForestClassifier()\n",
    "    forest.fit(X_train, y_train)\n",
    "    # evaluates on the test data\n",
    "    scores += forest.score(X_test, y_test)\n",
    "    \n",
    "print(scores / 30)"
   ]
  },
  {
   "cell_type": "markdown",
   "id": "10a2ad51",
   "metadata": {},
   "source": [
    "### Decision Tree"
   ]
  },
  {
   "cell_type": "code",
   "execution_count": 17,
   "id": "2ae985fe",
   "metadata": {},
   "outputs": [
    {
     "name": "stdout",
     "output_type": "stream",
     "text": [
      "0.5402640264026404\n"
     ]
    }
   ],
   "source": [
    "#prepare training data\n",
    "#predictor and class attributes\n",
    "X = averagewords.loc[:,'WordsPerTweet': 'Closing Price']\n",
    "y = averagewords['Class']\n",
    "\n",
    "scores = 0\n",
    "\n",
    "for i in range(30):\n",
    "    # splits the data in training + testing\n",
    "    X_train, X_test, y_train, y_test = train_test_split(X, y, test_size=0.2, random_state=i)\n",
    "    # builds the classifier\n",
    "    tree = DecisionTreeClassifier()\n",
    "    tree.fit(X_train, y_train)\n",
    "    # evaluates on the test data\n",
    "    scores += tree.score(X_test, y_test)\n",
    "    \n",
    "print(scores / 30) "
   ]
  },
  {
   "cell_type": "markdown",
   "id": "9689392b",
   "metadata": {},
   "source": [
    " ### Support Vector Machine"
   ]
  },
  {
   "cell_type": "code",
   "execution_count": 18,
   "id": "83df6554",
   "metadata": {},
   "outputs": [
    {
     "name": "stdout",
     "output_type": "stream",
     "text": [
      "0.5217821782178219\n"
     ]
    }
   ],
   "source": [
    "#prepare training data\n",
    "#predictor and class attributes\n",
    "X = averagewords.loc[:,'WordsPerTweet': 'Closing Price']\n",
    "y = averagewords['Class']\n",
    "\n",
    "scores = 0\n",
    "\n",
    "for i in range(30):\n",
    "    # splits the data in training + testing\n",
    "    X_train, X_test, y_train, y_test = train_test_split(X, y, test_size=0.2, random_state=i)\n",
    "    # builds the classifier\n",
    "    svm = SVC()\n",
    "    svm.fit(X_train, y_train)\n",
    "    # evaluates on the test data\n",
    "    scores += svm.score(X_test, y_test)\n",
    "    \n",
    "print(scores / 30) "
   ]
  },
  {
   "cell_type": "markdown",
   "id": "f3278249",
   "metadata": {},
   "source": [
    "### StratifiedKfold cross-validation"
   ]
  },
  {
   "cell_type": "code",
   "execution_count": 19,
   "id": "213c076a",
   "metadata": {},
   "outputs": [],
   "source": [
    "#a function which gets the cross-validation score\n",
    "def get_score(model, X_train, X_test, y_train, y_test):\n",
    "    model.fit(X_train, y_train)\n",
    "    return model.score(X_test, y_test)\n"
   ]
  },
  {
   "cell_type": "code",
   "execution_count": 20,
   "id": "27962453",
   "metadata": {},
   "outputs": [
    {
     "data": {
      "text/plain": [
       "StratifiedKFold(n_splits=10, random_state=None, shuffle=False)"
      ]
     },
     "execution_count": 20,
     "metadata": {},
     "output_type": "execute_result"
    }
   ],
   "source": [
    "# stratified cross-validation\n",
    "kf = StratifiedKFold(n_splits=10)\n",
    "kf"
   ]
  },
  {
   "cell_type": "code",
   "execution_count": 21,
   "id": "d6cdcc9c",
   "metadata": {},
   "outputs": [],
   "source": [
    "# specifying the predictor and class attributes\n",
    "X = averagewords.loc[:,'WordsPerTweet': 'Closing Price']\n",
    "y = averagewords['Class']"
   ]
  },
  {
   "cell_type": "code",
   "execution_count": 22,
   "id": "c4824c38",
   "metadata": {
    "scrolled": true
   },
   "outputs": [],
   "source": [
    "#creating a list for each classifier\n",
    "scores_rf = []\n",
    "scores_dTree = [] \n",
    "scores_svm = []\n",
    "\n",
    "for train_index, test_index, in kf.split(X, y):\n",
    "    X_train, X_test = X.iloc[train_index, :], X.iloc[test_index, :]\n",
    "    y_train = y.iloc[train_index]\n",
    "    y_test = y.iloc[test_index]\n",
    "   \n",
    "    scores_rf.append(get_score(RandomForestClassifier(n_estimators=80), X_train, X_test, y_train, y_test))\n",
    "    scores_dTree.append(get_score(DecisionTreeClassifier(), X_train, X_test, y_train, y_test))\n",
    "    scores_svm.append(get_score(SVC(), X_train, X_test, y_train, y_test))\n",
    "  "
   ]
  },
  {
   "cell_type": "code",
   "execution_count": 23,
   "id": "da40a4f9",
   "metadata": {},
   "outputs": [],
   "source": [
    "#a function that divides the sum of the scores by the total amount of scores\n",
    "def Average(lst):\n",
    "    return sum(lst) / len(lst)"
   ]
  },
  {
   "cell_type": "code",
   "execution_count": 24,
   "id": "3974aeec",
   "metadata": {},
   "outputs": [
    {
     "data": {
      "text/plain": [
       "[0.6666666666666666,\n",
       " 0.5686274509803921,\n",
       " 0.5490196078431373,\n",
       " 0.56,\n",
       " 0.36,\n",
       " 0.44,\n",
       " 0.5,\n",
       " 0.56,\n",
       " 0.5,\n",
       " 0.56]"
      ]
     },
     "execution_count": 24,
     "metadata": {},
     "output_type": "execute_result"
    }
   ],
   "source": [
    "scores_rf"
   ]
  },
  {
   "cell_type": "code",
   "execution_count": 25,
   "id": "a5355581",
   "metadata": {},
   "outputs": [
    {
     "name": "stdout",
     "output_type": "stream",
     "text": [
      "Average of RF Scores = 0.53\n"
     ]
    }
   ],
   "source": [
    "#calculating the average of the 10 scores\n",
    "average = Average(scores_rf)\n",
    "print(\"Average of RF Scores =\", round(average, 2))"
   ]
  },
  {
   "cell_type": "code",
   "execution_count": 26,
   "id": "50039ade",
   "metadata": {},
   "outputs": [
    {
     "name": "stdout",
     "output_type": "stream",
     "text": [
      "Standard deviation of RF: 0.07867925534134662\n"
     ]
    }
   ],
   "source": [
    "#calculating the standard deviation of the scores\n",
    "st_dev1 = np.std(scores_rf)\n",
    "print(\"Standard deviation of RF: \" + str(st_dev1))"
   ]
  },
  {
   "cell_type": "code",
   "execution_count": 27,
   "id": "0403a177",
   "metadata": {},
   "outputs": [
    {
     "data": {
      "text/plain": [
       "[0.5686274509803921,\n",
       " 0.49019607843137253,\n",
       " 0.5098039215686274,\n",
       " 0.62,\n",
       " 0.52,\n",
       " 0.32,\n",
       " 0.5,\n",
       " 0.42,\n",
       " 0.38,\n",
       " 0.52]"
      ]
     },
     "execution_count": 27,
     "metadata": {},
     "output_type": "execute_result"
    }
   ],
   "source": [
    "scores_dTree"
   ]
  },
  {
   "cell_type": "code",
   "execution_count": 28,
   "id": "70467270",
   "metadata": {},
   "outputs": [
    {
     "name": "stdout",
     "output_type": "stream",
     "text": [
      "Average of Decision Tree Scores = 0.48\n"
     ]
    }
   ],
   "source": [
    "#calculating the average of the 10 scores\n",
    "average = Average(scores_dTree)\n",
    "print(\"Average of Decision Tree Scores =\", round(average, 2))"
   ]
  },
  {
   "cell_type": "code",
   "execution_count": 29,
   "id": "fa3270b1",
   "metadata": {},
   "outputs": [
    {
     "name": "stdout",
     "output_type": "stream",
     "text": [
      "Standard deviation of Decision Tree: 0.08426778502170587\n"
     ]
    }
   ],
   "source": [
    "#calculating the standard deviation of the scores\n",
    "st_dev2 = np.std(scores_dTree)\n",
    "print(\"Standard deviation of Decision Tree: \" + str(st_dev2))"
   ]
  },
  {
   "cell_type": "code",
   "execution_count": 30,
   "id": "c56fb949",
   "metadata": {},
   "outputs": [
    {
     "data": {
      "text/plain": [
       "[0.5294117647058824,\n",
       " 0.5098039215686274,\n",
       " 0.5294117647058824,\n",
       " 0.54,\n",
       " 0.54,\n",
       " 0.54,\n",
       " 0.54,\n",
       " 0.54,\n",
       " 0.54,\n",
       " 0.54]"
      ]
     },
     "execution_count": 30,
     "metadata": {},
     "output_type": "execute_result"
    }
   ],
   "source": [
    "scores_svm"
   ]
  },
  {
   "cell_type": "code",
   "execution_count": 31,
   "id": "fdb4f528",
   "metadata": {},
   "outputs": [
    {
     "name": "stdout",
     "output_type": "stream",
     "text": [
      "Average of SVM Scores = 0.53\n"
     ]
    }
   ],
   "source": [
    "#calculating the average of the 10 scores\n",
    "average = Average(scores_svm)\n",
    "print(\"Average of SVM Scores =\", round(average, 2))"
   ]
  },
  {
   "cell_type": "code",
   "execution_count": 32,
   "id": "c602cf4b",
   "metadata": {},
   "outputs": [
    {
     "name": "stdout",
     "output_type": "stream",
     "text": [
      "Standard deviation of SVM: 0.009338686881160557\n"
     ]
    }
   ],
   "source": [
    "#calculating the standard deviation of the scores\n",
    "st_dev3 = np.std(scores_svm)\n",
    "print(\"Standard deviation of SVM: \" + str(st_dev3))"
   ]
  }
 ],
 "metadata": {
  "kernelspec": {
   "display_name": "Python 3 (ipykernel)",
   "language": "python",
   "name": "python3"
  },
  "language_info": {
   "codemirror_mode": {
    "name": "ipython",
    "version": 3
   },
   "file_extension": ".py",
   "mimetype": "text/x-python",
   "name": "python",
   "nbconvert_exporter": "python",
   "pygments_lexer": "ipython3",
   "version": "3.9.7"
  }
 },
 "nbformat": 4,
 "nbformat_minor": 5
}
